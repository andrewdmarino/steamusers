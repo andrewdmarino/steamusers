{
 "cells": [
  {
   "cell_type": "code",
   "execution_count": 97,
   "metadata": {
    "scrolled": true
   },
   "outputs": [
    {
     "data": {
      "text/html": [
       "<div>\n",
       "<style scoped>\n",
       "    .dataframe tbody tr th:only-of-type {\n",
       "        vertical-align: middle;\n",
       "    }\n",
       "\n",
       "    .dataframe tbody tr th {\n",
       "        vertical-align: top;\n",
       "    }\n",
       "\n",
       "    .dataframe thead th {\n",
       "        text-align: right;\n",
       "    }\n",
       "</style>\n",
       "<table border=\"1\" class=\"dataframe\">\n",
       "  <thead>\n",
       "    <tr style=\"text-align: right;\">\n",
       "      <th></th>\n",
       "      <th>Unnamed: 0</th>\n",
       "      <th>country_code</th>\n",
       "      <th>latitude</th>\n",
       "      <th>longitude</th>\n",
       "      <th>Country</th>\n",
       "      <th>Value</th>\n",
       "    </tr>\n",
       "  </thead>\n",
       "  <tbody>\n",
       "    <tr>\n",
       "      <th>0</th>\n",
       "      <td>0</td>\n",
       "      <td>AR</td>\n",
       "      <td>-38.416097</td>\n",
       "      <td>-63.616672</td>\n",
       "      <td>Argentina</td>\n",
       "      <td>26872</td>\n",
       "    </tr>\n",
       "    <tr>\n",
       "      <th>1</th>\n",
       "      <td>1</td>\n",
       "      <td>AT</td>\n",
       "      <td>47.516231</td>\n",
       "      <td>14.550072</td>\n",
       "      <td>Austria</td>\n",
       "      <td>94052</td>\n",
       "    </tr>\n",
       "    <tr>\n",
       "      <th>2</th>\n",
       "      <td>2</td>\n",
       "      <td>AU</td>\n",
       "      <td>-25.274398</td>\n",
       "      <td>133.775136</td>\n",
       "      <td>Australia</td>\n",
       "      <td>181386</td>\n",
       "    </tr>\n",
       "    <tr>\n",
       "      <th>3</th>\n",
       "      <td>3</td>\n",
       "      <td>AW</td>\n",
       "      <td>12.521110</td>\n",
       "      <td>-69.968338</td>\n",
       "      <td>Aruba</td>\n",
       "      <td>6718</td>\n",
       "    </tr>\n",
       "    <tr>\n",
       "      <th>4</th>\n",
       "      <td>4</td>\n",
       "      <td>BA</td>\n",
       "      <td>43.915886</td>\n",
       "      <td>17.679076</td>\n",
       "      <td>Bosnia and Herzegovina</td>\n",
       "      <td>13436</td>\n",
       "    </tr>\n",
       "  </tbody>\n",
       "</table>\n",
       "</div>"
      ],
      "text/plain": [
       "   Unnamed: 0 country_code   latitude   longitude                 Country  \\\n",
       "0           0           AR -38.416097  -63.616672               Argentina   \n",
       "1           1           AT  47.516231   14.550072                 Austria   \n",
       "2           2           AU -25.274398  133.775136               Australia   \n",
       "3           3           AW  12.521110  -69.968338                   Aruba   \n",
       "4           4           BA  43.915886   17.679076  Bosnia and Herzegovina   \n",
       "\n",
       "    Value  \n",
       "0   26872  \n",
       "1   94052  \n",
       "2  181386  \n",
       "3    6718  \n",
       "4   13436  "
      ]
     },
     "execution_count": 97,
     "metadata": {},
     "output_type": "execute_result"
    }
   ],
   "source": [
    "# pip install plotly\n",
    "\n",
    "import plotly.graph_objects as go\n",
    "import pandas as pd\n",
    "import numpy as np\n",
    "\n",
    "df = pd.read_csv('lat_lng_steam_data.csv')\n",
    "df.head()"
   ]
  },
  {
   "cell_type": "markdown",
   "metadata": {},
   "source": [
    "# Choropleth Map"
   ]
  },
  {
   "cell_type": "code",
   "execution_count": 96,
   "metadata": {
    "scrolled": true
   },
   "outputs": [
    {
     "data": {
      "application/vnd.plotly.v1+json": {
       "config": {
        "plotlyServerURL": "https://plot.ly"
       },
       "data": [
        {
         "colorbar": {
          "tickprefix": "$",
          "ticktext": [
           "1",
           "10K",
           "100K",
           "1.4M"
          ],
          "tickvals": [
           1,
           4,
           5.2,
           6.1
          ],
          "title": {
           "text": "Number Games Sold"
          }
         },
         "colorscale": [
          [
           0,
           "rgb(243, 231, 155)"
          ],
          [
           0.16666666666666666,
           "rgb(250, 196, 132)"
          ],
          [
           0.3333333333333333,
           "rgb(248, 160, 126)"
          ],
          [
           0.5,
           "rgb(235, 127, 134)"
          ],
          [
           0.6666666666666666,
           "rgb(206, 102, 147)"
          ],
          [
           0.8333333333333334,
           "rgb(160, 89, 160)"
          ],
          [
           1,
           "rgb(92, 83, 165)"
          ]
         ],
         "hoverinfo": "text",
         "locationmode": "country names",
         "locations": [
          "Argentina",
          "Austria",
          "Australia",
          "Aruba",
          "Bosnia and Herzegovina",
          "Barbados",
          "Belgium",
          "Bulgaria",
          "Brazil",
          "Belarus",
          "Canada",
          "Switzerland",
          "Chile",
          "China",
          "Colombia",
          "Czech Republic",
          "Germany",
          "Denmark",
          "Dominican Republic",
          "Estonia",
          "Spain",
          "Finland",
          "France",
          "Gabon",
          "United Kingdom",
          "Guinea",
          "Greece",
          "Guam",
          "Guyana",
          "Hong Kong",
          "Honduras",
          "Croatia",
          "Hungary",
          "Indonesia",
          "Ireland",
          "Israel",
          "Isle of Man",
          "India",
          "Iceland",
          "Italy",
          "Jordan",
          "Japan",
          "South Korea",
          "Kazakhstan",
          "Lebanon",
          "Lithuania",
          "Luxembourg",
          "Latvia",
          "Marshall Islands",
          "Macau",
          "Montserrat",
          "Malta",
          "Maldives",
          "Mexico",
          "Malaysia",
          "Nigeria",
          "Netherlands",
          "Norway",
          "New Zealand",
          "Peru",
          "Philippines",
          "Poland",
          "Portugal",
          "Qatar",
          "Romania",
          "Serbia",
          "Russia",
          "Sweden",
          "Singapore",
          "Slovenia",
          "Slovakia",
          "Somalia",
          "Thailand",
          "Turkey",
          "Taiwan",
          "Ukraine",
          "United States",
          "Uruguay",
          "Vatican City",
          "Vietnam",
          "South Africa"
         ],
         "marker": {
          "line": {
           "color": "darkgray",
           "width": 0.5
          }
         },
         "text": [
          "Argentina<br>26872 games sold",
          "Austria<br>94052 games sold",
          "Australia<br>181386 games sold",
          "Aruba<br>6718 games sold",
          "Bosnia and Herzegovina<br>13436 games sold",
          "Barbados<br>6718 games sold",
          "Belgium<br>47026 games sold",
          "Bulgaria<br>20154 games sold",
          "Brazil<br>174668 games sold",
          "Belarus<br>33590 games sold",
          "Canada<br>268720 games sold",
          "Switzerland<br>47026 games sold",
          "Chile<br>26872 games sold",
          "China<br>927084 games sold",
          "Colombia<br>6718 games sold",
          "Czech Republic<br>87334 games sold",
          "Germany<br>671800 games sold",
          "Denmark<br>94052 games sold",
          "Dominican Republic<br>6718 games sold",
          "Estonia<br>20154 games sold",
          "Spain<br>194822 games sold",
          "Finland<br>127642 games sold",
          "France<br>167950 games sold",
          "Gabon<br>6718 games sold",
          "United Kingdom<br>362772 games sold",
          "Guinea<br>6718 games sold",
          "Greece<br>53744 games sold",
          "Guam<br>6718 games sold",
          "Guyana<br>6718 games sold",
          "Hong Kong<br>47026 games sold",
          "Honduras<br>6718 games sold",
          "Croatia<br>13436 games sold",
          "Hungary<br>87334 games sold",
          "Indonesia<br>33590 games sold",
          "Ireland<br>40308 games sold",
          "Israel<br>40308 games sold",
          "Isle of Man<br>13436 games sold",
          "India<br>20154 games sold",
          "Iceland<br>13436 games sold",
          "Italy<br>94052 games sold",
          "Jordan<br>6718 games sold",
          "Japan<br>329182 games sold",
          "South Korea<br>456824 games sold",
          "Kazakhstan<br>13436 games sold",
          "Lebanon<br>6718 games sold",
          "Lithuania<br>6718 games sold",
          "Luxembourg<br>6718 games sold",
          "Latvia<br>20154 games sold",
          "Marshall Islands<br>6718 games sold",
          "Macau<br>6718 games sold",
          "Montserrat<br>6718 games sold",
          "Malta<br>6718 games sold",
          "Maldives<br>6718 games sold",
          "Mexico<br>40308 games sold",
          "Malaysia<br>20154 games sold",
          "Nigeria<br>6718 games sold",
          "Netherlands<br>127642 games sold",
          "Norway<br>53744 games sold",
          "New Zealand<br>60462 games sold",
          "Peru<br>13436 games sold",
          "Philippines<br>20154 games sold",
          "Poland<br>315746 games sold",
          "Portugal<br>87334 games sold",
          "Qatar<br>13436 games sold",
          "Romania<br>73898 games sold",
          "Serbia<br>33590 games sold",
          "Russia<br>470260 games sold",
          "Sweden<br>67180 games sold",
          "Singapore<br>20154 games sold",
          "Slovenia<br>13436 games sold",
          "Slovakia<br>33590 games sold",
          "Somalia<br>6718 games sold",
          "Thailand<br>40308 games sold",
          "Turkey<br>67180 games sold",
          "Taiwan<br>80616 games sold",
          "Ukraine<br>100770 games sold",
          "United States<br>1390626 games sold",
          "Uruguay<br>6718 games sold",
          "Vatican City<br>13436 games sold",
          "Vietnam<br>26872 games sold",
          "South Africa<br>6718 games sold"
         ],
         "type": "choropleth",
         "z": [
          4.4292999908336075,
          4.973368035183883,
          5.258603763664633,
          3.8272399995056454,
          4.128269995169627,
          3.8272399995056454,
          4.672338039519902,
          4.304361254225308,
          5.242213347476463,
          4.526210003841665,
          5.4292999908336075,
          4.672338039519902,
          4.4292999908336075,
          5.967119085906882,
          3.8272399995056454,
          4.941183351812482,
          5.827239999505646,
          4.973368035183883,
          3.8272399995056454,
          4.304361254225308,
          5.2896379974046015,
          5.105993600458475,
          5.225180008177683,
          3.8272399995056454,
          5.559633759328614,
          3.8272399995056454,
          4.730329986497589,
          3.8272399995056454,
          3.8272399995056454,
          4.672338039519902,
          3.8272399995056454,
          4.128269995169627,
          4.941183351812482,
          4.526210003841665,
          4.605391249889289,
          4.605391249889289,
          4.128269995169627,
          4.304361254225308,
          4.128269995169627,
          4.973368035183883,
          3.8272399995056454,
          5.517436079534159,
          5.659748912211882,
          4.128269995169627,
          3.8272399995056454,
          3.8272399995056454,
          3.8272399995056454,
          4.304361254225308,
          3.8272399995056454,
          3.8272399995056454,
          3.8272399995056454,
          3.8272399995056454,
          3.8272399995056454,
          4.605391249889289,
          4.304361254225308,
          3.8272399995056454,
          5.105993600458475,
          4.730329986497589,
          4.78148250894497,
          4.128269995169627,
          4.304361254225308,
          5.499337857441363,
          4.941183351812482,
          4.128269995169627,
          4.86863268466387,
          4.526210003841665,
          5.672338039519902,
          4.827239999505646,
          4.304361254225308,
          4.128269995169627,
          4.526210003841665,
          3.8272399995056454,
          4.605391249889289,
          4.827239999505646,
          4.90642124555327,
          5.003331258561326,
          6.143210344962563,
          3.8272399995056454,
          4.128269995169627,
          4.4292999908336075,
          3.8272399995056454
         ]
        }
       ],
       "layout": {
        "annotations": [
         {
          "showarrow": false,
          "text": "Grey countries have no data",
          "x": 0.55,
          "xref": "paper",
          "y": 0.01,
          "yref": "paper"
         }
        ],
        "geo": {
         "oceancolor": "#e6ffff",
         "projection": {
          "type": "natural earth"
         },
         "showcoastlines": false,
         "showframe": false,
         "showocean": true
        },
        "template": {
         "data": {
          "bar": [
           {
            "error_x": {
             "color": "#2a3f5f"
            },
            "error_y": {
             "color": "#2a3f5f"
            },
            "marker": {
             "line": {
              "color": "#E5ECF6",
              "width": 0.5
             }
            },
            "type": "bar"
           }
          ],
          "barpolar": [
           {
            "marker": {
             "line": {
              "color": "#E5ECF6",
              "width": 0.5
             }
            },
            "type": "barpolar"
           }
          ],
          "carpet": [
           {
            "aaxis": {
             "endlinecolor": "#2a3f5f",
             "gridcolor": "white",
             "linecolor": "white",
             "minorgridcolor": "white",
             "startlinecolor": "#2a3f5f"
            },
            "baxis": {
             "endlinecolor": "#2a3f5f",
             "gridcolor": "white",
             "linecolor": "white",
             "minorgridcolor": "white",
             "startlinecolor": "#2a3f5f"
            },
            "type": "carpet"
           }
          ],
          "choropleth": [
           {
            "colorbar": {
             "outlinewidth": 0,
             "ticks": ""
            },
            "type": "choropleth"
           }
          ],
          "contour": [
           {
            "colorbar": {
             "outlinewidth": 0,
             "ticks": ""
            },
            "colorscale": [
             [
              0,
              "#0d0887"
             ],
             [
              0.1111111111111111,
              "#46039f"
             ],
             [
              0.2222222222222222,
              "#7201a8"
             ],
             [
              0.3333333333333333,
              "#9c179e"
             ],
             [
              0.4444444444444444,
              "#bd3786"
             ],
             [
              0.5555555555555556,
              "#d8576b"
             ],
             [
              0.6666666666666666,
              "#ed7953"
             ],
             [
              0.7777777777777778,
              "#fb9f3a"
             ],
             [
              0.8888888888888888,
              "#fdca26"
             ],
             [
              1,
              "#f0f921"
             ]
            ],
            "type": "contour"
           }
          ],
          "contourcarpet": [
           {
            "colorbar": {
             "outlinewidth": 0,
             "ticks": ""
            },
            "type": "contourcarpet"
           }
          ],
          "heatmap": [
           {
            "colorbar": {
             "outlinewidth": 0,
             "ticks": ""
            },
            "colorscale": [
             [
              0,
              "#0d0887"
             ],
             [
              0.1111111111111111,
              "#46039f"
             ],
             [
              0.2222222222222222,
              "#7201a8"
             ],
             [
              0.3333333333333333,
              "#9c179e"
             ],
             [
              0.4444444444444444,
              "#bd3786"
             ],
             [
              0.5555555555555556,
              "#d8576b"
             ],
             [
              0.6666666666666666,
              "#ed7953"
             ],
             [
              0.7777777777777778,
              "#fb9f3a"
             ],
             [
              0.8888888888888888,
              "#fdca26"
             ],
             [
              1,
              "#f0f921"
             ]
            ],
            "type": "heatmap"
           }
          ],
          "heatmapgl": [
           {
            "colorbar": {
             "outlinewidth": 0,
             "ticks": ""
            },
            "colorscale": [
             [
              0,
              "#0d0887"
             ],
             [
              0.1111111111111111,
              "#46039f"
             ],
             [
              0.2222222222222222,
              "#7201a8"
             ],
             [
              0.3333333333333333,
              "#9c179e"
             ],
             [
              0.4444444444444444,
              "#bd3786"
             ],
             [
              0.5555555555555556,
              "#d8576b"
             ],
             [
              0.6666666666666666,
              "#ed7953"
             ],
             [
              0.7777777777777778,
              "#fb9f3a"
             ],
             [
              0.8888888888888888,
              "#fdca26"
             ],
             [
              1,
              "#f0f921"
             ]
            ],
            "type": "heatmapgl"
           }
          ],
          "histogram": [
           {
            "marker": {
             "colorbar": {
              "outlinewidth": 0,
              "ticks": ""
             }
            },
            "type": "histogram"
           }
          ],
          "histogram2d": [
           {
            "colorbar": {
             "outlinewidth": 0,
             "ticks": ""
            },
            "colorscale": [
             [
              0,
              "#0d0887"
             ],
             [
              0.1111111111111111,
              "#46039f"
             ],
             [
              0.2222222222222222,
              "#7201a8"
             ],
             [
              0.3333333333333333,
              "#9c179e"
             ],
             [
              0.4444444444444444,
              "#bd3786"
             ],
             [
              0.5555555555555556,
              "#d8576b"
             ],
             [
              0.6666666666666666,
              "#ed7953"
             ],
             [
              0.7777777777777778,
              "#fb9f3a"
             ],
             [
              0.8888888888888888,
              "#fdca26"
             ],
             [
              1,
              "#f0f921"
             ]
            ],
            "type": "histogram2d"
           }
          ],
          "histogram2dcontour": [
           {
            "colorbar": {
             "outlinewidth": 0,
             "ticks": ""
            },
            "colorscale": [
             [
              0,
              "#0d0887"
             ],
             [
              0.1111111111111111,
              "#46039f"
             ],
             [
              0.2222222222222222,
              "#7201a8"
             ],
             [
              0.3333333333333333,
              "#9c179e"
             ],
             [
              0.4444444444444444,
              "#bd3786"
             ],
             [
              0.5555555555555556,
              "#d8576b"
             ],
             [
              0.6666666666666666,
              "#ed7953"
             ],
             [
              0.7777777777777778,
              "#fb9f3a"
             ],
             [
              0.8888888888888888,
              "#fdca26"
             ],
             [
              1,
              "#f0f921"
             ]
            ],
            "type": "histogram2dcontour"
           }
          ],
          "mesh3d": [
           {
            "colorbar": {
             "outlinewidth": 0,
             "ticks": ""
            },
            "type": "mesh3d"
           }
          ],
          "parcoords": [
           {
            "line": {
             "colorbar": {
              "outlinewidth": 0,
              "ticks": ""
             }
            },
            "type": "parcoords"
           }
          ],
          "pie": [
           {
            "automargin": true,
            "type": "pie"
           }
          ],
          "scatter": [
           {
            "marker": {
             "colorbar": {
              "outlinewidth": 0,
              "ticks": ""
             }
            },
            "type": "scatter"
           }
          ],
          "scatter3d": [
           {
            "line": {
             "colorbar": {
              "outlinewidth": 0,
              "ticks": ""
             }
            },
            "marker": {
             "colorbar": {
              "outlinewidth": 0,
              "ticks": ""
             }
            },
            "type": "scatter3d"
           }
          ],
          "scattercarpet": [
           {
            "marker": {
             "colorbar": {
              "outlinewidth": 0,
              "ticks": ""
             }
            },
            "type": "scattercarpet"
           }
          ],
          "scattergeo": [
           {
            "marker": {
             "colorbar": {
              "outlinewidth": 0,
              "ticks": ""
             }
            },
            "type": "scattergeo"
           }
          ],
          "scattergl": [
           {
            "marker": {
             "colorbar": {
              "outlinewidth": 0,
              "ticks": ""
             }
            },
            "type": "scattergl"
           }
          ],
          "scattermapbox": [
           {
            "marker": {
             "colorbar": {
              "outlinewidth": 0,
              "ticks": ""
             }
            },
            "type": "scattermapbox"
           }
          ],
          "scatterpolar": [
           {
            "marker": {
             "colorbar": {
              "outlinewidth": 0,
              "ticks": ""
             }
            },
            "type": "scatterpolar"
           }
          ],
          "scatterpolargl": [
           {
            "marker": {
             "colorbar": {
              "outlinewidth": 0,
              "ticks": ""
             }
            },
            "type": "scatterpolargl"
           }
          ],
          "scatterternary": [
           {
            "marker": {
             "colorbar": {
              "outlinewidth": 0,
              "ticks": ""
             }
            },
            "type": "scatterternary"
           }
          ],
          "surface": [
           {
            "colorbar": {
             "outlinewidth": 0,
             "ticks": ""
            },
            "colorscale": [
             [
              0,
              "#0d0887"
             ],
             [
              0.1111111111111111,
              "#46039f"
             ],
             [
              0.2222222222222222,
              "#7201a8"
             ],
             [
              0.3333333333333333,
              "#9c179e"
             ],
             [
              0.4444444444444444,
              "#bd3786"
             ],
             [
              0.5555555555555556,
              "#d8576b"
             ],
             [
              0.6666666666666666,
              "#ed7953"
             ],
             [
              0.7777777777777778,
              "#fb9f3a"
             ],
             [
              0.8888888888888888,
              "#fdca26"
             ],
             [
              1,
              "#f0f921"
             ]
            ],
            "type": "surface"
           }
          ],
          "table": [
           {
            "cells": {
             "fill": {
              "color": "#EBF0F8"
             },
             "line": {
              "color": "white"
             }
            },
            "header": {
             "fill": {
              "color": "#C8D4E3"
             },
             "line": {
              "color": "white"
             }
            },
            "type": "table"
           }
          ]
         },
         "layout": {
          "annotationdefaults": {
           "arrowcolor": "#2a3f5f",
           "arrowhead": 0,
           "arrowwidth": 1
          },
          "coloraxis": {
           "colorbar": {
            "outlinewidth": 0,
            "ticks": ""
           }
          },
          "colorscale": {
           "diverging": [
            [
             0,
             "#8e0152"
            ],
            [
             0.1,
             "#c51b7d"
            ],
            [
             0.2,
             "#de77ae"
            ],
            [
             0.3,
             "#f1b6da"
            ],
            [
             0.4,
             "#fde0ef"
            ],
            [
             0.5,
             "#f7f7f7"
            ],
            [
             0.6,
             "#e6f5d0"
            ],
            [
             0.7,
             "#b8e186"
            ],
            [
             0.8,
             "#7fbc41"
            ],
            [
             0.9,
             "#4d9221"
            ],
            [
             1,
             "#276419"
            ]
           ],
           "sequential": [
            [
             0,
             "#0d0887"
            ],
            [
             0.1111111111111111,
             "#46039f"
            ],
            [
             0.2222222222222222,
             "#7201a8"
            ],
            [
             0.3333333333333333,
             "#9c179e"
            ],
            [
             0.4444444444444444,
             "#bd3786"
            ],
            [
             0.5555555555555556,
             "#d8576b"
            ],
            [
             0.6666666666666666,
             "#ed7953"
            ],
            [
             0.7777777777777778,
             "#fb9f3a"
            ],
            [
             0.8888888888888888,
             "#fdca26"
            ],
            [
             1,
             "#f0f921"
            ]
           ],
           "sequentialminus": [
            [
             0,
             "#0d0887"
            ],
            [
             0.1111111111111111,
             "#46039f"
            ],
            [
             0.2222222222222222,
             "#7201a8"
            ],
            [
             0.3333333333333333,
             "#9c179e"
            ],
            [
             0.4444444444444444,
             "#bd3786"
            ],
            [
             0.5555555555555556,
             "#d8576b"
            ],
            [
             0.6666666666666666,
             "#ed7953"
            ],
            [
             0.7777777777777778,
             "#fb9f3a"
            ],
            [
             0.8888888888888888,
             "#fdca26"
            ],
            [
             1,
             "#f0f921"
            ]
           ]
          },
          "colorway": [
           "#636efa",
           "#EF553B",
           "#00cc96",
           "#ab63fa",
           "#FFA15A",
           "#19d3f3",
           "#FF6692",
           "#B6E880",
           "#FF97FF",
           "#FECB52"
          ],
          "font": {
           "color": "#2a3f5f"
          },
          "geo": {
           "bgcolor": "white",
           "lakecolor": "white",
           "landcolor": "#E5ECF6",
           "showlakes": true,
           "showland": true,
           "subunitcolor": "white"
          },
          "hoverlabel": {
           "align": "left"
          },
          "hovermode": "closest",
          "mapbox": {
           "style": "light"
          },
          "paper_bgcolor": "white",
          "plot_bgcolor": "#E5ECF6",
          "polar": {
           "angularaxis": {
            "gridcolor": "white",
            "linecolor": "white",
            "ticks": ""
           },
           "bgcolor": "#E5ECF6",
           "radialaxis": {
            "gridcolor": "white",
            "linecolor": "white",
            "ticks": ""
           }
          },
          "scene": {
           "xaxis": {
            "backgroundcolor": "#E5ECF6",
            "gridcolor": "white",
            "gridwidth": 2,
            "linecolor": "white",
            "showbackground": true,
            "ticks": "",
            "zerolinecolor": "white"
           },
           "yaxis": {
            "backgroundcolor": "#E5ECF6",
            "gridcolor": "white",
            "gridwidth": 2,
            "linecolor": "white",
            "showbackground": true,
            "ticks": "",
            "zerolinecolor": "white"
           },
           "zaxis": {
            "backgroundcolor": "#E5ECF6",
            "gridcolor": "white",
            "gridwidth": 2,
            "linecolor": "white",
            "showbackground": true,
            "ticks": "",
            "zerolinecolor": "white"
           }
          },
          "shapedefaults": {
           "line": {
            "color": "#2a3f5f"
           }
          },
          "ternary": {
           "aaxis": {
            "gridcolor": "white",
            "linecolor": "white",
            "ticks": ""
           },
           "baxis": {
            "gridcolor": "white",
            "linecolor": "white",
            "ticks": ""
           },
           "bgcolor": "#E5ECF6",
           "caxis": {
            "gridcolor": "white",
            "linecolor": "white",
            "ticks": ""
           }
          },
          "title": {
           "x": 0.05
          },
          "xaxis": {
           "automargin": true,
           "gridcolor": "white",
           "linecolor": "white",
           "ticks": "",
           "title": {
            "standoff": 15
           },
           "zerolinecolor": "white",
           "zerolinewidth": 2
          },
          "yaxis": {
           "automargin": true,
           "gridcolor": "white",
           "linecolor": "white",
           "ticks": "",
           "title": {
            "standoff": 15
           },
           "zerolinecolor": "white",
           "zerolinewidth": 2
          }
         }
        },
        "title": {
         "text": "Number of Steam Games Sold per Country"
        }
       }
      },
      "text/html": [
       "<div>                            <div id=\"cef9adbc-c19f-4112-b89d-a311e2191946\" class=\"plotly-graph-div\" style=\"height:525px; width:100%;\"></div>            <script type=\"text/javascript\">                require([\"plotly\"], function(Plotly) {                    window.PLOTLYENV=window.PLOTLYENV || {};                                    if (document.getElementById(\"cef9adbc-c19f-4112-b89d-a311e2191946\")) {                    Plotly.newPlot(                        \"cef9adbc-c19f-4112-b89d-a311e2191946\",                        [{\"colorbar\": {\"tickprefix\": \"$\", \"ticktext\": [\"1\", \"10K\", \"100K\", \"1.4M\"], \"tickvals\": [1, 4.0, 5.2, 6.1], \"title\": {\"text\": \"Number Games Sold\"}}, \"colorscale\": [[0.0, \"rgb(243, 231, 155)\"], [0.16666666666666666, \"rgb(250, 196, 132)\"], [0.3333333333333333, \"rgb(248, 160, 126)\"], [0.5, \"rgb(235, 127, 134)\"], [0.6666666666666666, \"rgb(206, 102, 147)\"], [0.8333333333333334, \"rgb(160, 89, 160)\"], [1.0, \"rgb(92, 83, 165)\"]], \"hoverinfo\": \"text\", \"locationmode\": \"country names\", \"locations\": [\"Argentina\", \"Austria\", \"Australia\", \"Aruba\", \"Bosnia and Herzegovina\", \"Barbados\", \"Belgium\", \"Bulgaria\", \"Brazil\", \"Belarus\", \"Canada\", \"Switzerland\", \"Chile\", \"China\", \"Colombia\", \"Czech Republic\", \"Germany\", \"Denmark\", \"Dominican Republic\", \"Estonia\", \"Spain\", \"Finland\", \"France\", \"Gabon\", \"United Kingdom\", \"Guinea\", \"Greece\", \"Guam\", \"Guyana\", \"Hong Kong\", \"Honduras\", \"Croatia\", \"Hungary\", \"Indonesia\", \"Ireland\", \"Israel\", \"Isle of Man\", \"India\", \"Iceland\", \"Italy\", \"Jordan\", \"Japan\", \"South Korea\", \"Kazakhstan\", \"Lebanon\", \"Lithuania\", \"Luxembourg\", \"Latvia\", \"Marshall Islands\", \"Macau\", \"Montserrat\", \"Malta\", \"Maldives\", \"Mexico\", \"Malaysia\", \"Nigeria\", \"Netherlands\", \"Norway\", \"New Zealand\", \"Peru\", \"Philippines\", \"Poland\", \"Portugal\", \"Qatar\", \"Romania\", \"Serbia\", \"Russia\", \"Sweden\", \"Singapore\", \"Slovenia\", \"Slovakia\", \"Somalia\", \"Thailand\", \"Turkey\", \"Taiwan\", \"Ukraine\", \"United States\", \"Uruguay\", \"Vatican City\", \"Vietnam\", \"South Africa\"], \"marker\": {\"line\": {\"color\": \"darkgray\", \"width\": 0.5}}, \"text\": [\"Argentina<br>26872 games sold\", \"Austria<br>94052 games sold\", \"Australia<br>181386 games sold\", \"Aruba<br>6718 games sold\", \"Bosnia and Herzegovina<br>13436 games sold\", \"Barbados<br>6718 games sold\", \"Belgium<br>47026 games sold\", \"Bulgaria<br>20154 games sold\", \"Brazil<br>174668 games sold\", \"Belarus<br>33590 games sold\", \"Canada<br>268720 games sold\", \"Switzerland<br>47026 games sold\", \"Chile<br>26872 games sold\", \"China<br>927084 games sold\", \"Colombia<br>6718 games sold\", \"Czech Republic<br>87334 games sold\", \"Germany<br>671800 games sold\", \"Denmark<br>94052 games sold\", \"Dominican Republic<br>6718 games sold\", \"Estonia<br>20154 games sold\", \"Spain<br>194822 games sold\", \"Finland<br>127642 games sold\", \"France<br>167950 games sold\", \"Gabon<br>6718 games sold\", \"United Kingdom<br>362772 games sold\", \"Guinea<br>6718 games sold\", \"Greece<br>53744 games sold\", \"Guam<br>6718 games sold\", \"Guyana<br>6718 games sold\", \"Hong Kong<br>47026 games sold\", \"Honduras<br>6718 games sold\", \"Croatia<br>13436 games sold\", \"Hungary<br>87334 games sold\", \"Indonesia<br>33590 games sold\", \"Ireland<br>40308 games sold\", \"Israel<br>40308 games sold\", \"Isle of Man<br>13436 games sold\", \"India<br>20154 games sold\", \"Iceland<br>13436 games sold\", \"Italy<br>94052 games sold\", \"Jordan<br>6718 games sold\", \"Japan<br>329182 games sold\", \"South Korea<br>456824 games sold\", \"Kazakhstan<br>13436 games sold\", \"Lebanon<br>6718 games sold\", \"Lithuania<br>6718 games sold\", \"Luxembourg<br>6718 games sold\", \"Latvia<br>20154 games sold\", \"Marshall Islands<br>6718 games sold\", \"Macau<br>6718 games sold\", \"Montserrat<br>6718 games sold\", \"Malta<br>6718 games sold\", \"Maldives<br>6718 games sold\", \"Mexico<br>40308 games sold\", \"Malaysia<br>20154 games sold\", \"Nigeria<br>6718 games sold\", \"Netherlands<br>127642 games sold\", \"Norway<br>53744 games sold\", \"New Zealand<br>60462 games sold\", \"Peru<br>13436 games sold\", \"Philippines<br>20154 games sold\", \"Poland<br>315746 games sold\", \"Portugal<br>87334 games sold\", \"Qatar<br>13436 games sold\", \"Romania<br>73898 games sold\", \"Serbia<br>33590 games sold\", \"Russia<br>470260 games sold\", \"Sweden<br>67180 games sold\", \"Singapore<br>20154 games sold\", \"Slovenia<br>13436 games sold\", \"Slovakia<br>33590 games sold\", \"Somalia<br>6718 games sold\", \"Thailand<br>40308 games sold\", \"Turkey<br>67180 games sold\", \"Taiwan<br>80616 games sold\", \"Ukraine<br>100770 games sold\", \"United States<br>1390626 games sold\", \"Uruguay<br>6718 games sold\", \"Vatican City<br>13436 games sold\", \"Vietnam<br>26872 games sold\", \"South Africa<br>6718 games sold\"], \"type\": \"choropleth\", \"z\": [4.4292999908336075, 4.973368035183883, 5.258603763664633, 3.8272399995056454, 4.128269995169627, 3.8272399995056454, 4.672338039519902, 4.304361254225308, 5.242213347476463, 4.526210003841665, 5.4292999908336075, 4.672338039519902, 4.4292999908336075, 5.967119085906882, 3.8272399995056454, 4.941183351812482, 5.827239999505646, 4.973368035183883, 3.8272399995056454, 4.304361254225308, 5.2896379974046015, 5.105993600458475, 5.225180008177683, 3.8272399995056454, 5.559633759328614, 3.8272399995056454, 4.730329986497589, 3.8272399995056454, 3.8272399995056454, 4.672338039519902, 3.8272399995056454, 4.128269995169627, 4.941183351812482, 4.526210003841665, 4.605391249889289, 4.605391249889289, 4.128269995169627, 4.304361254225308, 4.128269995169627, 4.973368035183883, 3.8272399995056454, 5.517436079534159, 5.659748912211882, 4.128269995169627, 3.8272399995056454, 3.8272399995056454, 3.8272399995056454, 4.304361254225308, 3.8272399995056454, 3.8272399995056454, 3.8272399995056454, 3.8272399995056454, 3.8272399995056454, 4.605391249889289, 4.304361254225308, 3.8272399995056454, 5.105993600458475, 4.730329986497589, 4.78148250894497, 4.128269995169627, 4.304361254225308, 5.499337857441363, 4.941183351812482, 4.128269995169627, 4.86863268466387, 4.526210003841665, 5.672338039519902, 4.827239999505646, 4.304361254225308, 4.128269995169627, 4.526210003841665, 3.8272399995056454, 4.605391249889289, 4.827239999505646, 4.90642124555327, 5.003331258561326, 6.143210344962563, 3.8272399995056454, 4.128269995169627, 4.4292999908336075, 3.8272399995056454]}],                        {\"annotations\": [{\"showarrow\": false, \"text\": \"Grey countries have no data\", \"x\": 0.55, \"xref\": \"paper\", \"y\": 0.01, \"yref\": \"paper\"}], \"geo\": {\"oceancolor\": \"#e6ffff\", \"projection\": {\"type\": \"natural earth\"}, \"showcoastlines\": false, \"showframe\": false, \"showocean\": true}, \"template\": {\"data\": {\"bar\": [{\"error_x\": {\"color\": \"#2a3f5f\"}, \"error_y\": {\"color\": \"#2a3f5f\"}, \"marker\": {\"line\": {\"color\": \"#E5ECF6\", \"width\": 0.5}}, \"type\": \"bar\"}], \"barpolar\": [{\"marker\": {\"line\": {\"color\": \"#E5ECF6\", \"width\": 0.5}}, \"type\": \"barpolar\"}], \"carpet\": [{\"aaxis\": {\"endlinecolor\": \"#2a3f5f\", \"gridcolor\": \"white\", \"linecolor\": \"white\", \"minorgridcolor\": \"white\", \"startlinecolor\": \"#2a3f5f\"}, \"baxis\": {\"endlinecolor\": \"#2a3f5f\", \"gridcolor\": \"white\", \"linecolor\": \"white\", \"minorgridcolor\": \"white\", \"startlinecolor\": \"#2a3f5f\"}, \"type\": \"carpet\"}], \"choropleth\": [{\"colorbar\": {\"outlinewidth\": 0, \"ticks\": \"\"}, \"type\": \"choropleth\"}], \"contour\": [{\"colorbar\": {\"outlinewidth\": 0, \"ticks\": \"\"}, \"colorscale\": [[0.0, \"#0d0887\"], [0.1111111111111111, \"#46039f\"], [0.2222222222222222, \"#7201a8\"], [0.3333333333333333, \"#9c179e\"], [0.4444444444444444, \"#bd3786\"], [0.5555555555555556, \"#d8576b\"], [0.6666666666666666, \"#ed7953\"], [0.7777777777777778, \"#fb9f3a\"], [0.8888888888888888, \"#fdca26\"], [1.0, \"#f0f921\"]], \"type\": \"contour\"}], \"contourcarpet\": [{\"colorbar\": {\"outlinewidth\": 0, \"ticks\": \"\"}, \"type\": \"contourcarpet\"}], \"heatmap\": [{\"colorbar\": {\"outlinewidth\": 0, \"ticks\": \"\"}, \"colorscale\": [[0.0, \"#0d0887\"], [0.1111111111111111, \"#46039f\"], [0.2222222222222222, \"#7201a8\"], [0.3333333333333333, \"#9c179e\"], [0.4444444444444444, \"#bd3786\"], [0.5555555555555556, \"#d8576b\"], [0.6666666666666666, \"#ed7953\"], [0.7777777777777778, \"#fb9f3a\"], [0.8888888888888888, \"#fdca26\"], [1.0, \"#f0f921\"]], \"type\": \"heatmap\"}], \"heatmapgl\": [{\"colorbar\": {\"outlinewidth\": 0, \"ticks\": \"\"}, \"colorscale\": [[0.0, \"#0d0887\"], [0.1111111111111111, \"#46039f\"], [0.2222222222222222, \"#7201a8\"], [0.3333333333333333, \"#9c179e\"], [0.4444444444444444, \"#bd3786\"], [0.5555555555555556, \"#d8576b\"], [0.6666666666666666, \"#ed7953\"], [0.7777777777777778, \"#fb9f3a\"], [0.8888888888888888, \"#fdca26\"], [1.0, \"#f0f921\"]], \"type\": \"heatmapgl\"}], \"histogram\": [{\"marker\": {\"colorbar\": {\"outlinewidth\": 0, \"ticks\": \"\"}}, \"type\": \"histogram\"}], \"histogram2d\": [{\"colorbar\": {\"outlinewidth\": 0, \"ticks\": \"\"}, \"colorscale\": [[0.0, \"#0d0887\"], [0.1111111111111111, \"#46039f\"], [0.2222222222222222, \"#7201a8\"], [0.3333333333333333, \"#9c179e\"], [0.4444444444444444, \"#bd3786\"], [0.5555555555555556, \"#d8576b\"], [0.6666666666666666, \"#ed7953\"], [0.7777777777777778, \"#fb9f3a\"], [0.8888888888888888, \"#fdca26\"], [1.0, \"#f0f921\"]], \"type\": \"histogram2d\"}], \"histogram2dcontour\": [{\"colorbar\": {\"outlinewidth\": 0, \"ticks\": \"\"}, \"colorscale\": [[0.0, \"#0d0887\"], [0.1111111111111111, \"#46039f\"], [0.2222222222222222, \"#7201a8\"], [0.3333333333333333, \"#9c179e\"], [0.4444444444444444, \"#bd3786\"], [0.5555555555555556, \"#d8576b\"], [0.6666666666666666, \"#ed7953\"], [0.7777777777777778, \"#fb9f3a\"], [0.8888888888888888, \"#fdca26\"], [1.0, \"#f0f921\"]], \"type\": \"histogram2dcontour\"}], \"mesh3d\": [{\"colorbar\": {\"outlinewidth\": 0, \"ticks\": \"\"}, \"type\": \"mesh3d\"}], \"parcoords\": [{\"line\": {\"colorbar\": {\"outlinewidth\": 0, \"ticks\": \"\"}}, \"type\": \"parcoords\"}], \"pie\": [{\"automargin\": true, \"type\": \"pie\"}], \"scatter\": [{\"marker\": {\"colorbar\": {\"outlinewidth\": 0, \"ticks\": \"\"}}, \"type\": \"scatter\"}], \"scatter3d\": [{\"line\": {\"colorbar\": {\"outlinewidth\": 0, \"ticks\": \"\"}}, \"marker\": {\"colorbar\": {\"outlinewidth\": 0, \"ticks\": \"\"}}, \"type\": \"scatter3d\"}], \"scattercarpet\": [{\"marker\": {\"colorbar\": {\"outlinewidth\": 0, \"ticks\": \"\"}}, \"type\": \"scattercarpet\"}], \"scattergeo\": [{\"marker\": {\"colorbar\": {\"outlinewidth\": 0, \"ticks\": \"\"}}, \"type\": \"scattergeo\"}], \"scattergl\": [{\"marker\": {\"colorbar\": {\"outlinewidth\": 0, \"ticks\": \"\"}}, \"type\": \"scattergl\"}], \"scattermapbox\": [{\"marker\": {\"colorbar\": {\"outlinewidth\": 0, \"ticks\": \"\"}}, \"type\": \"scattermapbox\"}], \"scatterpolar\": [{\"marker\": {\"colorbar\": {\"outlinewidth\": 0, \"ticks\": \"\"}}, \"type\": \"scatterpolar\"}], \"scatterpolargl\": [{\"marker\": {\"colorbar\": {\"outlinewidth\": 0, \"ticks\": \"\"}}, \"type\": \"scatterpolargl\"}], \"scatterternary\": [{\"marker\": {\"colorbar\": {\"outlinewidth\": 0, \"ticks\": \"\"}}, \"type\": \"scatterternary\"}], \"surface\": [{\"colorbar\": {\"outlinewidth\": 0, \"ticks\": \"\"}, \"colorscale\": [[0.0, \"#0d0887\"], [0.1111111111111111, \"#46039f\"], [0.2222222222222222, \"#7201a8\"], [0.3333333333333333, \"#9c179e\"], [0.4444444444444444, \"#bd3786\"], [0.5555555555555556, \"#d8576b\"], [0.6666666666666666, \"#ed7953\"], [0.7777777777777778, \"#fb9f3a\"], [0.8888888888888888, \"#fdca26\"], [1.0, \"#f0f921\"]], \"type\": \"surface\"}], \"table\": [{\"cells\": {\"fill\": {\"color\": \"#EBF0F8\"}, \"line\": {\"color\": \"white\"}}, \"header\": {\"fill\": {\"color\": \"#C8D4E3\"}, \"line\": {\"color\": \"white\"}}, \"type\": \"table\"}]}, \"layout\": {\"annotationdefaults\": {\"arrowcolor\": \"#2a3f5f\", \"arrowhead\": 0, \"arrowwidth\": 1}, \"coloraxis\": {\"colorbar\": {\"outlinewidth\": 0, \"ticks\": \"\"}}, \"colorscale\": {\"diverging\": [[0, \"#8e0152\"], [0.1, \"#c51b7d\"], [0.2, \"#de77ae\"], [0.3, \"#f1b6da\"], [0.4, \"#fde0ef\"], [0.5, \"#f7f7f7\"], [0.6, \"#e6f5d0\"], [0.7, \"#b8e186\"], [0.8, \"#7fbc41\"], [0.9, \"#4d9221\"], [1, \"#276419\"]], \"sequential\": [[0.0, \"#0d0887\"], [0.1111111111111111, \"#46039f\"], [0.2222222222222222, \"#7201a8\"], [0.3333333333333333, \"#9c179e\"], [0.4444444444444444, \"#bd3786\"], [0.5555555555555556, \"#d8576b\"], [0.6666666666666666, \"#ed7953\"], [0.7777777777777778, \"#fb9f3a\"], [0.8888888888888888, \"#fdca26\"], [1.0, \"#f0f921\"]], \"sequentialminus\": [[0.0, \"#0d0887\"], [0.1111111111111111, \"#46039f\"], [0.2222222222222222, \"#7201a8\"], [0.3333333333333333, \"#9c179e\"], [0.4444444444444444, \"#bd3786\"], [0.5555555555555556, \"#d8576b\"], [0.6666666666666666, \"#ed7953\"], [0.7777777777777778, \"#fb9f3a\"], [0.8888888888888888, \"#fdca26\"], [1.0, \"#f0f921\"]]}, \"colorway\": [\"#636efa\", \"#EF553B\", \"#00cc96\", \"#ab63fa\", \"#FFA15A\", \"#19d3f3\", \"#FF6692\", \"#B6E880\", \"#FF97FF\", \"#FECB52\"], \"font\": {\"color\": \"#2a3f5f\"}, \"geo\": {\"bgcolor\": \"white\", \"lakecolor\": \"white\", \"landcolor\": \"#E5ECF6\", \"showlakes\": true, \"showland\": true, \"subunitcolor\": \"white\"}, \"hoverlabel\": {\"align\": \"left\"}, \"hovermode\": \"closest\", \"mapbox\": {\"style\": \"light\"}, \"paper_bgcolor\": \"white\", \"plot_bgcolor\": \"#E5ECF6\", \"polar\": {\"angularaxis\": {\"gridcolor\": \"white\", \"linecolor\": \"white\", \"ticks\": \"\"}, \"bgcolor\": \"#E5ECF6\", \"radialaxis\": {\"gridcolor\": \"white\", \"linecolor\": \"white\", \"ticks\": \"\"}}, \"scene\": {\"xaxis\": {\"backgroundcolor\": \"#E5ECF6\", \"gridcolor\": \"white\", \"gridwidth\": 2, \"linecolor\": \"white\", \"showbackground\": true, \"ticks\": \"\", \"zerolinecolor\": \"white\"}, \"yaxis\": {\"backgroundcolor\": \"#E5ECF6\", \"gridcolor\": \"white\", \"gridwidth\": 2, \"linecolor\": \"white\", \"showbackground\": true, \"ticks\": \"\", \"zerolinecolor\": \"white\"}, \"zaxis\": {\"backgroundcolor\": \"#E5ECF6\", \"gridcolor\": \"white\", \"gridwidth\": 2, \"linecolor\": \"white\", \"showbackground\": true, \"ticks\": \"\", \"zerolinecolor\": \"white\"}}, \"shapedefaults\": {\"line\": {\"color\": \"#2a3f5f\"}}, \"ternary\": {\"aaxis\": {\"gridcolor\": \"white\", \"linecolor\": \"white\", \"ticks\": \"\"}, \"baxis\": {\"gridcolor\": \"white\", \"linecolor\": \"white\", \"ticks\": \"\"}, \"bgcolor\": \"#E5ECF6\", \"caxis\": {\"gridcolor\": \"white\", \"linecolor\": \"white\", \"ticks\": \"\"}}, \"title\": {\"x\": 0.05}, \"xaxis\": {\"automargin\": true, \"gridcolor\": \"white\", \"linecolor\": \"white\", \"ticks\": \"\", \"title\": {\"standoff\": 15}, \"zerolinecolor\": \"white\", \"zerolinewidth\": 2}, \"yaxis\": {\"automargin\": true, \"gridcolor\": \"white\", \"linecolor\": \"white\", \"ticks\": \"\", \"title\": {\"standoff\": 15}, \"zerolinecolor\": \"white\", \"zerolinewidth\": 2}}}, \"title\": {\"text\": \"Number of Steam Games Sold per Country\"}},                        {\"responsive\": true}                    ).then(function(){\n",
       "                            \n",
       "var gd = document.getElementById('cef9adbc-c19f-4112-b89d-a311e2191946');\n",
       "var x = new MutationObserver(function (mutations, observer) {{\n",
       "        var display = window.getComputedStyle(gd).display;\n",
       "        if (!display || display === 'none') {{\n",
       "            console.log([gd, 'removed!']);\n",
       "            Plotly.purge(gd);\n",
       "            observer.disconnect();\n",
       "        }}\n",
       "}});\n",
       "\n",
       "// Listen for the removal of the full notebook cells\n",
       "var notebookContainer = gd.closest('#notebook-container');\n",
       "if (notebookContainer) {{\n",
       "    x.observe(notebookContainer, {childList: true});\n",
       "}}\n",
       "\n",
       "// Listen for the clearing of the current output cell\n",
       "var outputEl = gd.closest('.output');\n",
       "if (outputEl) {{\n",
       "    x.observe(outputEl, {childList: true});\n",
       "}}\n",
       "\n",
       "                        })                };                });            </script>        </div>"
      ]
     },
     "metadata": {},
     "output_type": "display_data"
    }
   ],
   "source": [
    "fig = go.Figure(data=go.Choropleth(\n",
    "    locations = df['Country'],\n",
    "    locationmode = 'country names',\n",
    "    z = np.log10(df['Value']),\n",
    "    marker_line_color='darkgray',\n",
    "    marker_line_width=0.5,\n",
    "    text = df.apply(lambda row: f\"{row['Country']}<br>{row['Value']} games sold\", axis=1),\n",
    "    hoverinfo = 'text',\n",
    "    colorscale = 'sunset',\n",
    "    colorbar=dict(\n",
    "        tickvals = [1, 4.0, 5.2, 6.1], \n",
    "        ticktext = ['1', '10K', '100K', '1.4M']),\n",
    "    colorbar_tickprefix = '$',\n",
    "    colorbar_title = 'Number Games Sold',\n",
    "))\n",
    "\n",
    "fig.update_layout(\n",
    "    title_text='Number of Steam Games Sold per Country',\n",
    "    geo=dict(\n",
    "        showframe=False,\n",
    "        showcoastlines=False,\n",
    "        projection_type='equirectangular'\n",
    "        # for rotatable globe view\n",
    "        #projection_type='orthographic'\n",
    "),\n",
    "    annotations = [dict(\n",
    "        x=0.55,\n",
    "        y=0.01,\n",
    "        xref='paper',\n",
    "        yref='paper',\n",
    "        text='Grey countries have no data',\n",
    "        showarrow = False\n",
    "    )]\n",
    ")\n",
    "\n",
    "fig.update_geos(showocean=True, oceancolor=\"#e6ffff\",\n",
    "                #if want non rectangle view - gives the curved edges\n",
    "                projection_type=\"natural earth\")\n",
    "\n",
    "fig.show()"
   ]
  },
  {
   "cell_type": "markdown",
   "metadata": {},
   "source": [
    "# Bubble Chart\n",
    "Still needs work if we want to use this - currently putting add data into one color/limit"
   ]
  },
  {
   "cell_type": "code",
   "execution_count": 30,
   "metadata": {},
   "outputs": [
    {
     "data": {
      "application/vnd.plotly.v1+json": {
       "config": {
        "plotlyServerURL": "https://plot.ly"
       },
       "data": [
        {
         "lat": [
          -38.416097,
          47.516231,
          -25.274398,
          12.52111,
          43.915886,
          13.193887,
          50.503887,
          42.733883,
          -14.235004,
          53.709807,
          56.130366,
          46.818188,
          -35.675146999999996,
          35.86166,
          4.570868,
          49.817492,
          51.165690999999995,
          56.26392,
          18.735692999999998,
          58.595271999999994,
          40.463667,
          61.92411,
          46.227638,
          -0.803689,
          55.378051,
          9.945587,
          39.074208,
          13.444304,
          4.860416000000001,
          22.396428,
          15.199998999999998,
          45.1,
          47.162494,
          -0.789275,
          53.41291,
          31.046051000000002,
          54.236107,
          20.593684,
          64.96305100000001,
          41.87194,
          30.585164000000002,
          36.204824,
          35.907757000000004,
          48.019573,
          33.854721000000005,
          55.169438,
          49.815273,
          56.879635,
          7.131474000000001,
          22.198745000000002,
          16.742498,
          35.937496,
          3.202778,
          23.634501,
          4.210483999999999,
          9.081999,
          52.132633,
          60.472024,
          -40.900557,
          -9.189967,
          12.879721,
          51.919438,
          39.399871999999995,
          25.354826,
          45.943160999999996,
          44.016521000000004,
          61.52401,
          60.128161,
          1.352083,
          46.151241,
          48.669026,
          5.152149,
          15.870032,
          38.963745,
          23.69781,
          48.379433,
          37.09024,
          -32.522779,
          41.902916,
          14.058323999999999,
          -30.559482
         ],
         "locationmode": "country names",
         "lon": [
          -63.616671999999994,
          14.550072,
          133.775136,
          -69.968338,
          17.679076000000002,
          -59.543198,
          4.469936,
          25.48583,
          -51.92528,
          27.953389,
          -106.34677099999999,
          8.227511999999999,
          -71.542969,
          104.195397,
          -74.297333,
          15.472961999999999,
          10.451526,
          9.501785,
          -70.162651,
          25.013607,
          -3.7492199999999998,
          25.748151,
          2.213749,
          11.609444,
          -3.435973,
          -9.696645,
          21.824312,
          144.793731,
          -58.93018000000001,
          114.10949699999999,
          -86.241905,
          15.2,
          19.503304,
          113.921327,
          -8.243889999999999,
          34.851612,
          -4.548056,
          78.96288,
          -19.020835,
          12.56738,
          36.238414,
          138.252924,
          127.766922,
          66.923684,
          35.862285,
          23.881275,
          6.129583,
          24.603189,
          171.184478,
          113.543873,
          -62.187366000000004,
          14.375416,
          73.22068,
          -102.552784,
          101.97576600000001,
          8.675277000000001,
          5.291266,
          8.468946,
          174.88597099999998,
          -75.015152,
          121.77401699999999,
          19.145135999999997,
          -8.224454,
          51.183884,
          24.96676,
          21.005859,
          105.31875600000001,
          18.643501,
          103.819836,
          14.995463,
          19.699023999999998,
          46.199616,
          100.992541,
          35.243322,
          120.96051499999999,
          31.16558,
          -95.712891,
          -55.765834999999996,
          12.453389,
          108.277199,
          22.937506
         ],
         "marker": {
          "color": "royalblue",
          "line": {
           "color": "rgb(40,40,40)",
           "width": 0.5
          },
          "size": [
           26.872,
           94.052,
           181.386,
           6.718,
           13.436,
           6.718,
           47.026,
           20.154,
           174.668,
           33.59,
           268.72,
           47.026,
           26.872,
           927.084,
           6.718,
           87.334,
           671.8,
           94.052,
           6.718,
           20.154,
           194.822,
           127.642,
           167.95,
           6.718,
           362.772,
           6.718,
           53.744,
           6.718,
           6.718,
           47.026,
           6.718,
           13.436,
           87.334,
           33.59,
           40.308,
           40.308,
           13.436,
           20.154,
           13.436,
           94.052,
           6.718,
           329.182,
           456.824,
           13.436,
           6.718,
           6.718,
           6.718,
           20.154,
           6.718,
           6.718,
           6.718,
           6.718,
           6.718,
           40.308,
           20.154,
           6.718,
           127.642,
           53.744,
           60.462,
           13.436,
           20.154,
           315.746,
           87.334,
           13.436,
           73.898,
           33.59,
           470.26,
           67.18,
           20.154,
           13.436,
           33.59,
           6.718,
           40.308,
           67.18,
           80.616,
           100.77,
           1390.626,
           6.718,
           13.436,
           26.872,
           6.718
          ],
          "sizemode": "area"
         },
         "name": "0 - 7000",
         "text": [
          "Argentina<br>Games Sold: 26872",
          "Austria<br>Games Sold: 94052",
          "Australia<br>Games Sold: 181386",
          "Aruba<br>Games Sold: 6718",
          "Bosnia and Herzegovina<br>Games Sold: 13436",
          "Barbados<br>Games Sold: 6718",
          "Belgium<br>Games Sold: 47026",
          "Bulgaria<br>Games Sold: 20154",
          "Brazil<br>Games Sold: 174668",
          "Belarus<br>Games Sold: 33590",
          "Canada<br>Games Sold: 268720",
          "Switzerland<br>Games Sold: 47026",
          "Chile<br>Games Sold: 26872",
          "China<br>Games Sold: 927084",
          "Colombia<br>Games Sold: 6718",
          "Czech Republic<br>Games Sold: 87334",
          "Germany<br>Games Sold: 671800",
          "Denmark<br>Games Sold: 94052",
          "Dominican Republic<br>Games Sold: 6718",
          "Estonia<br>Games Sold: 20154",
          "Spain<br>Games Sold: 194822",
          "Finland<br>Games Sold: 127642",
          "France<br>Games Sold: 167950",
          "Gabon<br>Games Sold: 6718",
          "United Kingdom<br>Games Sold: 362772",
          "Guinea<br>Games Sold: 6718",
          "Greece<br>Games Sold: 53744",
          "Guam<br>Games Sold: 6718",
          "Guyana<br>Games Sold: 6718",
          "Hong Kong<br>Games Sold: 47026",
          "Honduras<br>Games Sold: 6718",
          "Croatia<br>Games Sold: 13436",
          "Hungary<br>Games Sold: 87334",
          "Indonesia<br>Games Sold: 33590",
          "Ireland<br>Games Sold: 40308",
          "Israel<br>Games Sold: 40308",
          "Isle of Man<br>Games Sold: 13436",
          "India<br>Games Sold: 20154",
          "Iceland<br>Games Sold: 13436",
          "Italy<br>Games Sold: 94052",
          "Jordan<br>Games Sold: 6718",
          "Japan<br>Games Sold: 329182",
          "South Korea<br>Games Sold: 456824",
          "Kazakhstan<br>Games Sold: 13436",
          "Lebanon<br>Games Sold: 6718",
          "Lithuania<br>Games Sold: 6718",
          "Luxembourg<br>Games Sold: 6718",
          "Latvia<br>Games Sold: 20154",
          "Marshall Islands<br>Games Sold: 6718",
          "Macau<br>Games Sold: 6718",
          "Montserrat<br>Games Sold: 6718",
          "Malta<br>Games Sold: 6718",
          "Maldives<br>Games Sold: 6718",
          "Mexico<br>Games Sold: 40308",
          "Malaysia<br>Games Sold: 20154",
          "Nigeria<br>Games Sold: 6718",
          "Netherlands<br>Games Sold: 127642",
          "Norway<br>Games Sold: 53744",
          "New Zealand<br>Games Sold: 60462",
          "Peru<br>Games Sold: 13436",
          "Philippines<br>Games Sold: 20154",
          "Poland<br>Games Sold: 315746",
          "Portugal<br>Games Sold: 87334",
          "Qatar<br>Games Sold: 13436",
          "Romania<br>Games Sold: 73898",
          "Serbia<br>Games Sold: 33590",
          "Russia<br>Games Sold: 470260",
          "Sweden<br>Games Sold: 67180",
          "Singapore<br>Games Sold: 20154",
          "Slovenia<br>Games Sold: 13436",
          "Slovakia<br>Games Sold: 33590",
          "Somalia<br>Games Sold: 6718",
          "Thailand<br>Games Sold: 40308",
          "Turkey<br>Games Sold: 67180",
          "Taiwan<br>Games Sold: 80616",
          "Ukraine<br>Games Sold: 100770",
          "United States<br>Games Sold: 1390626",
          "Uruguay<br>Games Sold: 6718",
          "Vatican City<br>Games Sold: 13436",
          "Vietnam<br>Games Sold: 26872",
          "South Africa<br>Games Sold: 6718"
         ],
         "type": "scattergeo"
        },
        {
         "lat": [],
         "locationmode": "country names",
         "lon": [],
         "marker": {
          "color": "crimson",
          "line": {
           "color": "rgb(40,40,40)",
           "width": 0.5
          },
          "size": [],
          "sizemode": "area"
         },
         "name": "7001 - 50000",
         "text": [],
         "type": "scattergeo"
        },
        {
         "lat": [],
         "locationmode": "country names",
         "lon": [],
         "marker": {
          "color": "lightseagreen",
          "line": {
           "color": "rgb(40,40,40)",
           "width": 0.5
          },
          "size": [],
          "sizemode": "area"
         },
         "name": "50001 - 100000",
         "text": [],
         "type": "scattergeo"
        },
        {
         "lat": [],
         "locationmode": "country names",
         "lon": [],
         "marker": {
          "color": "orange",
          "line": {
           "color": "rgb(40,40,40)",
           "width": 0.5
          },
          "size": [],
          "sizemode": "area"
         },
         "name": "100001 - 500000",
         "text": [],
         "type": "scattergeo"
        },
        {
         "lat": [],
         "locationmode": "country names",
         "lon": [],
         "marker": {
          "color": "lightgrey",
          "line": {
           "color": "rgb(40,40,40)",
           "width": 0.5
          },
          "size": [],
          "sizemode": "area"
         },
         "name": "500001 - 14000000",
         "text": [],
         "type": "scattergeo"
        }
       ],
       "layout": {
        "geo": {
         "landcolor": " #b3ffb3",
         "scope": "world"
        },
        "showlegend": true,
        "template": {
         "data": {
          "bar": [
           {
            "error_x": {
             "color": "#2a3f5f"
            },
            "error_y": {
             "color": "#2a3f5f"
            },
            "marker": {
             "line": {
              "color": "#E5ECF6",
              "width": 0.5
             }
            },
            "type": "bar"
           }
          ],
          "barpolar": [
           {
            "marker": {
             "line": {
              "color": "#E5ECF6",
              "width": 0.5
             }
            },
            "type": "barpolar"
           }
          ],
          "carpet": [
           {
            "aaxis": {
             "endlinecolor": "#2a3f5f",
             "gridcolor": "white",
             "linecolor": "white",
             "minorgridcolor": "white",
             "startlinecolor": "#2a3f5f"
            },
            "baxis": {
             "endlinecolor": "#2a3f5f",
             "gridcolor": "white",
             "linecolor": "white",
             "minorgridcolor": "white",
             "startlinecolor": "#2a3f5f"
            },
            "type": "carpet"
           }
          ],
          "choropleth": [
           {
            "colorbar": {
             "outlinewidth": 0,
             "ticks": ""
            },
            "type": "choropleth"
           }
          ],
          "contour": [
           {
            "colorbar": {
             "outlinewidth": 0,
             "ticks": ""
            },
            "colorscale": [
             [
              0,
              "#0d0887"
             ],
             [
              0.1111111111111111,
              "#46039f"
             ],
             [
              0.2222222222222222,
              "#7201a8"
             ],
             [
              0.3333333333333333,
              "#9c179e"
             ],
             [
              0.4444444444444444,
              "#bd3786"
             ],
             [
              0.5555555555555556,
              "#d8576b"
             ],
             [
              0.6666666666666666,
              "#ed7953"
             ],
             [
              0.7777777777777778,
              "#fb9f3a"
             ],
             [
              0.8888888888888888,
              "#fdca26"
             ],
             [
              1,
              "#f0f921"
             ]
            ],
            "type": "contour"
           }
          ],
          "contourcarpet": [
           {
            "colorbar": {
             "outlinewidth": 0,
             "ticks": ""
            },
            "type": "contourcarpet"
           }
          ],
          "heatmap": [
           {
            "colorbar": {
             "outlinewidth": 0,
             "ticks": ""
            },
            "colorscale": [
             [
              0,
              "#0d0887"
             ],
             [
              0.1111111111111111,
              "#46039f"
             ],
             [
              0.2222222222222222,
              "#7201a8"
             ],
             [
              0.3333333333333333,
              "#9c179e"
             ],
             [
              0.4444444444444444,
              "#bd3786"
             ],
             [
              0.5555555555555556,
              "#d8576b"
             ],
             [
              0.6666666666666666,
              "#ed7953"
             ],
             [
              0.7777777777777778,
              "#fb9f3a"
             ],
             [
              0.8888888888888888,
              "#fdca26"
             ],
             [
              1,
              "#f0f921"
             ]
            ],
            "type": "heatmap"
           }
          ],
          "heatmapgl": [
           {
            "colorbar": {
             "outlinewidth": 0,
             "ticks": ""
            },
            "colorscale": [
             [
              0,
              "#0d0887"
             ],
             [
              0.1111111111111111,
              "#46039f"
             ],
             [
              0.2222222222222222,
              "#7201a8"
             ],
             [
              0.3333333333333333,
              "#9c179e"
             ],
             [
              0.4444444444444444,
              "#bd3786"
             ],
             [
              0.5555555555555556,
              "#d8576b"
             ],
             [
              0.6666666666666666,
              "#ed7953"
             ],
             [
              0.7777777777777778,
              "#fb9f3a"
             ],
             [
              0.8888888888888888,
              "#fdca26"
             ],
             [
              1,
              "#f0f921"
             ]
            ],
            "type": "heatmapgl"
           }
          ],
          "histogram": [
           {
            "marker": {
             "colorbar": {
              "outlinewidth": 0,
              "ticks": ""
             }
            },
            "type": "histogram"
           }
          ],
          "histogram2d": [
           {
            "colorbar": {
             "outlinewidth": 0,
             "ticks": ""
            },
            "colorscale": [
             [
              0,
              "#0d0887"
             ],
             [
              0.1111111111111111,
              "#46039f"
             ],
             [
              0.2222222222222222,
              "#7201a8"
             ],
             [
              0.3333333333333333,
              "#9c179e"
             ],
             [
              0.4444444444444444,
              "#bd3786"
             ],
             [
              0.5555555555555556,
              "#d8576b"
             ],
             [
              0.6666666666666666,
              "#ed7953"
             ],
             [
              0.7777777777777778,
              "#fb9f3a"
             ],
             [
              0.8888888888888888,
              "#fdca26"
             ],
             [
              1,
              "#f0f921"
             ]
            ],
            "type": "histogram2d"
           }
          ],
          "histogram2dcontour": [
           {
            "colorbar": {
             "outlinewidth": 0,
             "ticks": ""
            },
            "colorscale": [
             [
              0,
              "#0d0887"
             ],
             [
              0.1111111111111111,
              "#46039f"
             ],
             [
              0.2222222222222222,
              "#7201a8"
             ],
             [
              0.3333333333333333,
              "#9c179e"
             ],
             [
              0.4444444444444444,
              "#bd3786"
             ],
             [
              0.5555555555555556,
              "#d8576b"
             ],
             [
              0.6666666666666666,
              "#ed7953"
             ],
             [
              0.7777777777777778,
              "#fb9f3a"
             ],
             [
              0.8888888888888888,
              "#fdca26"
             ],
             [
              1,
              "#f0f921"
             ]
            ],
            "type": "histogram2dcontour"
           }
          ],
          "mesh3d": [
           {
            "colorbar": {
             "outlinewidth": 0,
             "ticks": ""
            },
            "type": "mesh3d"
           }
          ],
          "parcoords": [
           {
            "line": {
             "colorbar": {
              "outlinewidth": 0,
              "ticks": ""
             }
            },
            "type": "parcoords"
           }
          ],
          "pie": [
           {
            "automargin": true,
            "type": "pie"
           }
          ],
          "scatter": [
           {
            "marker": {
             "colorbar": {
              "outlinewidth": 0,
              "ticks": ""
             }
            },
            "type": "scatter"
           }
          ],
          "scatter3d": [
           {
            "line": {
             "colorbar": {
              "outlinewidth": 0,
              "ticks": ""
             }
            },
            "marker": {
             "colorbar": {
              "outlinewidth": 0,
              "ticks": ""
             }
            },
            "type": "scatter3d"
           }
          ],
          "scattercarpet": [
           {
            "marker": {
             "colorbar": {
              "outlinewidth": 0,
              "ticks": ""
             }
            },
            "type": "scattercarpet"
           }
          ],
          "scattergeo": [
           {
            "marker": {
             "colorbar": {
              "outlinewidth": 0,
              "ticks": ""
             }
            },
            "type": "scattergeo"
           }
          ],
          "scattergl": [
           {
            "marker": {
             "colorbar": {
              "outlinewidth": 0,
              "ticks": ""
             }
            },
            "type": "scattergl"
           }
          ],
          "scattermapbox": [
           {
            "marker": {
             "colorbar": {
              "outlinewidth": 0,
              "ticks": ""
             }
            },
            "type": "scattermapbox"
           }
          ],
          "scatterpolar": [
           {
            "marker": {
             "colorbar": {
              "outlinewidth": 0,
              "ticks": ""
             }
            },
            "type": "scatterpolar"
           }
          ],
          "scatterpolargl": [
           {
            "marker": {
             "colorbar": {
              "outlinewidth": 0,
              "ticks": ""
             }
            },
            "type": "scatterpolargl"
           }
          ],
          "scatterternary": [
           {
            "marker": {
             "colorbar": {
              "outlinewidth": 0,
              "ticks": ""
             }
            },
            "type": "scatterternary"
           }
          ],
          "surface": [
           {
            "colorbar": {
             "outlinewidth": 0,
             "ticks": ""
            },
            "colorscale": [
             [
              0,
              "#0d0887"
             ],
             [
              0.1111111111111111,
              "#46039f"
             ],
             [
              0.2222222222222222,
              "#7201a8"
             ],
             [
              0.3333333333333333,
              "#9c179e"
             ],
             [
              0.4444444444444444,
              "#bd3786"
             ],
             [
              0.5555555555555556,
              "#d8576b"
             ],
             [
              0.6666666666666666,
              "#ed7953"
             ],
             [
              0.7777777777777778,
              "#fb9f3a"
             ],
             [
              0.8888888888888888,
              "#fdca26"
             ],
             [
              1,
              "#f0f921"
             ]
            ],
            "type": "surface"
           }
          ],
          "table": [
           {
            "cells": {
             "fill": {
              "color": "#EBF0F8"
             },
             "line": {
              "color": "white"
             }
            },
            "header": {
             "fill": {
              "color": "#C8D4E3"
             },
             "line": {
              "color": "white"
             }
            },
            "type": "table"
           }
          ]
         },
         "layout": {
          "annotationdefaults": {
           "arrowcolor": "#2a3f5f",
           "arrowhead": 0,
           "arrowwidth": 1
          },
          "coloraxis": {
           "colorbar": {
            "outlinewidth": 0,
            "ticks": ""
           }
          },
          "colorscale": {
           "diverging": [
            [
             0,
             "#8e0152"
            ],
            [
             0.1,
             "#c51b7d"
            ],
            [
             0.2,
             "#de77ae"
            ],
            [
             0.3,
             "#f1b6da"
            ],
            [
             0.4,
             "#fde0ef"
            ],
            [
             0.5,
             "#f7f7f7"
            ],
            [
             0.6,
             "#e6f5d0"
            ],
            [
             0.7,
             "#b8e186"
            ],
            [
             0.8,
             "#7fbc41"
            ],
            [
             0.9,
             "#4d9221"
            ],
            [
             1,
             "#276419"
            ]
           ],
           "sequential": [
            [
             0,
             "#0d0887"
            ],
            [
             0.1111111111111111,
             "#46039f"
            ],
            [
             0.2222222222222222,
             "#7201a8"
            ],
            [
             0.3333333333333333,
             "#9c179e"
            ],
            [
             0.4444444444444444,
             "#bd3786"
            ],
            [
             0.5555555555555556,
             "#d8576b"
            ],
            [
             0.6666666666666666,
             "#ed7953"
            ],
            [
             0.7777777777777778,
             "#fb9f3a"
            ],
            [
             0.8888888888888888,
             "#fdca26"
            ],
            [
             1,
             "#f0f921"
            ]
           ],
           "sequentialminus": [
            [
             0,
             "#0d0887"
            ],
            [
             0.1111111111111111,
             "#46039f"
            ],
            [
             0.2222222222222222,
             "#7201a8"
            ],
            [
             0.3333333333333333,
             "#9c179e"
            ],
            [
             0.4444444444444444,
             "#bd3786"
            ],
            [
             0.5555555555555556,
             "#d8576b"
            ],
            [
             0.6666666666666666,
             "#ed7953"
            ],
            [
             0.7777777777777778,
             "#fb9f3a"
            ],
            [
             0.8888888888888888,
             "#fdca26"
            ],
            [
             1,
             "#f0f921"
            ]
           ]
          },
          "colorway": [
           "#636efa",
           "#EF553B",
           "#00cc96",
           "#ab63fa",
           "#FFA15A",
           "#19d3f3",
           "#FF6692",
           "#B6E880",
           "#FF97FF",
           "#FECB52"
          ],
          "font": {
           "color": "#2a3f5f"
          },
          "geo": {
           "bgcolor": "white",
           "lakecolor": "white",
           "landcolor": "#E5ECF6",
           "showlakes": true,
           "showland": true,
           "subunitcolor": "white"
          },
          "hoverlabel": {
           "align": "left"
          },
          "hovermode": "closest",
          "mapbox": {
           "style": "light"
          },
          "paper_bgcolor": "white",
          "plot_bgcolor": "#E5ECF6",
          "polar": {
           "angularaxis": {
            "gridcolor": "white",
            "linecolor": "white",
            "ticks": ""
           },
           "bgcolor": "#E5ECF6",
           "radialaxis": {
            "gridcolor": "white",
            "linecolor": "white",
            "ticks": ""
           }
          },
          "scene": {
           "xaxis": {
            "backgroundcolor": "#E5ECF6",
            "gridcolor": "white",
            "gridwidth": 2,
            "linecolor": "white",
            "showbackground": true,
            "ticks": "",
            "zerolinecolor": "white"
           },
           "yaxis": {
            "backgroundcolor": "#E5ECF6",
            "gridcolor": "white",
            "gridwidth": 2,
            "linecolor": "white",
            "showbackground": true,
            "ticks": "",
            "zerolinecolor": "white"
           },
           "zaxis": {
            "backgroundcolor": "#E5ECF6",
            "gridcolor": "white",
            "gridwidth": 2,
            "linecolor": "white",
            "showbackground": true,
            "ticks": "",
            "zerolinecolor": "white"
           }
          },
          "shapedefaults": {
           "line": {
            "color": "#2a3f5f"
           }
          },
          "ternary": {
           "aaxis": {
            "gridcolor": "white",
            "linecolor": "white",
            "ticks": ""
           },
           "baxis": {
            "gridcolor": "white",
            "linecolor": "white",
            "ticks": ""
           },
           "bgcolor": "#E5ECF6",
           "caxis": {
            "gridcolor": "white",
            "linecolor": "white",
            "ticks": ""
           }
          },
          "title": {
           "x": 0.05
          },
          "xaxis": {
           "automargin": true,
           "gridcolor": "white",
           "linecolor": "white",
           "ticks": "",
           "title": {
            "standoff": 15
           },
           "zerolinecolor": "white",
           "zerolinewidth": 2
          },
          "yaxis": {
           "automargin": true,
           "gridcolor": "white",
           "linecolor": "white",
           "ticks": "",
           "title": {
            "standoff": 15
           },
           "zerolinecolor": "white",
           "zerolinewidth": 2
          }
         }
        },
        "title": {
         "text": "Amount of Game Sales per Country <br>(Click legend to toggle traces)"
        }
       }
      },
      "text/html": [
       "<div>                            <div id=\"59366efc-2903-4d64-89b9-4dafaafc9be7\" class=\"plotly-graph-div\" style=\"height:525px; width:100%;\"></div>            <script type=\"text/javascript\">                require([\"plotly\"], function(Plotly) {                    window.PLOTLYENV=window.PLOTLYENV || {};                                    if (document.getElementById(\"59366efc-2903-4d64-89b9-4dafaafc9be7\")) {                    Plotly.newPlot(                        \"59366efc-2903-4d64-89b9-4dafaafc9be7\",                        [{\"lat\": [-38.416097, 47.516231, -25.274398, 12.52111, 43.915886, 13.193887, 50.503887, 42.733883, -14.235004, 53.709807, 56.130366, 46.818188, -35.675146999999996, 35.86166, 4.570868, 49.817492, 51.165690999999995, 56.26392, 18.735692999999998, 58.595271999999994, 40.463667, 61.92411, 46.227638, -0.803689, 55.378051, 9.945587, 39.074208, 13.444304, 4.860416000000001, 22.396428, 15.199998999999998, 45.1, 47.162494, -0.789275, 53.41291, 31.046051000000002, 54.236107, 20.593684, 64.96305100000001, 41.87194, 30.585164000000002, 36.204824, 35.907757000000004, 48.019573, 33.854721000000005, 55.169438, 49.815273, 56.879635, 7.131474000000001, 22.198745000000002, 16.742498, 35.937496, 3.202778, 23.634501, 4.210483999999999, 9.081999, 52.132633, 60.472024, -40.900557, -9.189967, 12.879721, 51.919438, 39.399871999999995, 25.354826, 45.943160999999996, 44.016521000000004, 61.52401, 60.128161, 1.352083, 46.151241, 48.669026, 5.152149, 15.870032, 38.963745, 23.69781, 48.379433, 37.09024, -32.522779, 41.902916, 14.058323999999999, -30.559482], \"locationmode\": \"country names\", \"lon\": [-63.616671999999994, 14.550072, 133.775136, -69.968338, 17.679076000000002, -59.543198, 4.469936, 25.48583, -51.92528, 27.953389, -106.34677099999999, 8.227511999999999, -71.542969, 104.195397, -74.297333, 15.472961999999999, 10.451526, 9.501785, -70.162651, 25.013607, -3.7492199999999998, 25.748151, 2.213749, 11.609444, -3.435973, -9.696645, 21.824312, 144.793731, -58.93018000000001, 114.10949699999999, -86.241905, 15.2, 19.503304, 113.921327, -8.243889999999999, 34.851612, -4.548056, 78.96288, -19.020835, 12.56738, 36.238414, 138.252924, 127.766922, 66.923684, 35.862285, 23.881275, 6.129583, 24.603189, 171.184478, 113.543873, -62.187366000000004, 14.375416, 73.22068, -102.552784, 101.97576600000001, 8.675277000000001, 5.291266, 8.468946, 174.88597099999998, -75.015152, 121.77401699999999, 19.145135999999997, -8.224454, 51.183884, 24.96676, 21.005859, 105.31875600000001, 18.643501, 103.819836, 14.995463, 19.699023999999998, 46.199616, 100.992541, 35.243322, 120.96051499999999, 31.16558, -95.712891, -55.765834999999996, 12.453389, 108.277199, 22.937506], \"marker\": {\"color\": \"royalblue\", \"line\": {\"color\": \"rgb(40,40,40)\", \"width\": 0.5}, \"size\": [26.872, 94.052, 181.386, 6.718, 13.436, 6.718, 47.026, 20.154, 174.668, 33.59, 268.72, 47.026, 26.872, 927.084, 6.718, 87.334, 671.8, 94.052, 6.718, 20.154, 194.822, 127.642, 167.95, 6.718, 362.772, 6.718, 53.744, 6.718, 6.718, 47.026, 6.718, 13.436, 87.334, 33.59, 40.308, 40.308, 13.436, 20.154, 13.436, 94.052, 6.718, 329.182, 456.824, 13.436, 6.718, 6.718, 6.718, 20.154, 6.718, 6.718, 6.718, 6.718, 6.718, 40.308, 20.154, 6.718, 127.642, 53.744, 60.462, 13.436, 20.154, 315.746, 87.334, 13.436, 73.898, 33.59, 470.26, 67.18, 20.154, 13.436, 33.59, 6.718, 40.308, 67.18, 80.616, 100.77, 1390.626, 6.718, 13.436, 26.872, 6.718], \"sizemode\": \"area\"}, \"name\": \"0 - 7000\", \"text\": [\"Argentina<br>Games Sold: 26872\", \"Austria<br>Games Sold: 94052\", \"Australia<br>Games Sold: 181386\", \"Aruba<br>Games Sold: 6718\", \"Bosnia and Herzegovina<br>Games Sold: 13436\", \"Barbados<br>Games Sold: 6718\", \"Belgium<br>Games Sold: 47026\", \"Bulgaria<br>Games Sold: 20154\", \"Brazil<br>Games Sold: 174668\", \"Belarus<br>Games Sold: 33590\", \"Canada<br>Games Sold: 268720\", \"Switzerland<br>Games Sold: 47026\", \"Chile<br>Games Sold: 26872\", \"China<br>Games Sold: 927084\", \"Colombia<br>Games Sold: 6718\", \"Czech Republic<br>Games Sold: 87334\", \"Germany<br>Games Sold: 671800\", \"Denmark<br>Games Sold: 94052\", \"Dominican Republic<br>Games Sold: 6718\", \"Estonia<br>Games Sold: 20154\", \"Spain<br>Games Sold: 194822\", \"Finland<br>Games Sold: 127642\", \"France<br>Games Sold: 167950\", \"Gabon<br>Games Sold: 6718\", \"United Kingdom<br>Games Sold: 362772\", \"Guinea<br>Games Sold: 6718\", \"Greece<br>Games Sold: 53744\", \"Guam<br>Games Sold: 6718\", \"Guyana<br>Games Sold: 6718\", \"Hong Kong<br>Games Sold: 47026\", \"Honduras<br>Games Sold: 6718\", \"Croatia<br>Games Sold: 13436\", \"Hungary<br>Games Sold: 87334\", \"Indonesia<br>Games Sold: 33590\", \"Ireland<br>Games Sold: 40308\", \"Israel<br>Games Sold: 40308\", \"Isle of Man<br>Games Sold: 13436\", \"India<br>Games Sold: 20154\", \"Iceland<br>Games Sold: 13436\", \"Italy<br>Games Sold: 94052\", \"Jordan<br>Games Sold: 6718\", \"Japan<br>Games Sold: 329182\", \"South Korea<br>Games Sold: 456824\", \"Kazakhstan<br>Games Sold: 13436\", \"Lebanon<br>Games Sold: 6718\", \"Lithuania<br>Games Sold: 6718\", \"Luxembourg<br>Games Sold: 6718\", \"Latvia<br>Games Sold: 20154\", \"Marshall Islands<br>Games Sold: 6718\", \"Macau<br>Games Sold: 6718\", \"Montserrat<br>Games Sold: 6718\", \"Malta<br>Games Sold: 6718\", \"Maldives<br>Games Sold: 6718\", \"Mexico<br>Games Sold: 40308\", \"Malaysia<br>Games Sold: 20154\", \"Nigeria<br>Games Sold: 6718\", \"Netherlands<br>Games Sold: 127642\", \"Norway<br>Games Sold: 53744\", \"New Zealand<br>Games Sold: 60462\", \"Peru<br>Games Sold: 13436\", \"Philippines<br>Games Sold: 20154\", \"Poland<br>Games Sold: 315746\", \"Portugal<br>Games Sold: 87334\", \"Qatar<br>Games Sold: 13436\", \"Romania<br>Games Sold: 73898\", \"Serbia<br>Games Sold: 33590\", \"Russia<br>Games Sold: 470260\", \"Sweden<br>Games Sold: 67180\", \"Singapore<br>Games Sold: 20154\", \"Slovenia<br>Games Sold: 13436\", \"Slovakia<br>Games Sold: 33590\", \"Somalia<br>Games Sold: 6718\", \"Thailand<br>Games Sold: 40308\", \"Turkey<br>Games Sold: 67180\", \"Taiwan<br>Games Sold: 80616\", \"Ukraine<br>Games Sold: 100770\", \"United States<br>Games Sold: 1390626\", \"Uruguay<br>Games Sold: 6718\", \"Vatican City<br>Games Sold: 13436\", \"Vietnam<br>Games Sold: 26872\", \"South Africa<br>Games Sold: 6718\"], \"type\": \"scattergeo\"}, {\"lat\": [], \"locationmode\": \"country names\", \"lon\": [], \"marker\": {\"color\": \"crimson\", \"line\": {\"color\": \"rgb(40,40,40)\", \"width\": 0.5}, \"size\": [], \"sizemode\": \"area\"}, \"name\": \"7001 - 50000\", \"text\": [], \"type\": \"scattergeo\"}, {\"lat\": [], \"locationmode\": \"country names\", \"lon\": [], \"marker\": {\"color\": \"lightseagreen\", \"line\": {\"color\": \"rgb(40,40,40)\", \"width\": 0.5}, \"size\": [], \"sizemode\": \"area\"}, \"name\": \"50001 - 100000\", \"text\": [], \"type\": \"scattergeo\"}, {\"lat\": [], \"locationmode\": \"country names\", \"lon\": [], \"marker\": {\"color\": \"orange\", \"line\": {\"color\": \"rgb(40,40,40)\", \"width\": 0.5}, \"size\": [], \"sizemode\": \"area\"}, \"name\": \"100001 - 500000\", \"text\": [], \"type\": \"scattergeo\"}, {\"lat\": [], \"locationmode\": \"country names\", \"lon\": [], \"marker\": {\"color\": \"lightgrey\", \"line\": {\"color\": \"rgb(40,40,40)\", \"width\": 0.5}, \"size\": [], \"sizemode\": \"area\"}, \"name\": \"500001 - 14000000\", \"text\": [], \"type\": \"scattergeo\"}],                        {\"geo\": {\"landcolor\": \" #b3ffb3\", \"scope\": \"world\"}, \"showlegend\": true, \"template\": {\"data\": {\"bar\": [{\"error_x\": {\"color\": \"#2a3f5f\"}, \"error_y\": {\"color\": \"#2a3f5f\"}, \"marker\": {\"line\": {\"color\": \"#E5ECF6\", \"width\": 0.5}}, \"type\": \"bar\"}], \"barpolar\": [{\"marker\": {\"line\": {\"color\": \"#E5ECF6\", \"width\": 0.5}}, \"type\": \"barpolar\"}], \"carpet\": [{\"aaxis\": {\"endlinecolor\": \"#2a3f5f\", \"gridcolor\": \"white\", \"linecolor\": \"white\", \"minorgridcolor\": \"white\", \"startlinecolor\": \"#2a3f5f\"}, \"baxis\": {\"endlinecolor\": \"#2a3f5f\", \"gridcolor\": \"white\", \"linecolor\": \"white\", \"minorgridcolor\": \"white\", \"startlinecolor\": \"#2a3f5f\"}, \"type\": \"carpet\"}], \"choropleth\": [{\"colorbar\": {\"outlinewidth\": 0, \"ticks\": \"\"}, \"type\": \"choropleth\"}], \"contour\": [{\"colorbar\": {\"outlinewidth\": 0, \"ticks\": \"\"}, \"colorscale\": [[0.0, \"#0d0887\"], [0.1111111111111111, \"#46039f\"], [0.2222222222222222, \"#7201a8\"], [0.3333333333333333, \"#9c179e\"], [0.4444444444444444, \"#bd3786\"], [0.5555555555555556, \"#d8576b\"], [0.6666666666666666, \"#ed7953\"], [0.7777777777777778, \"#fb9f3a\"], [0.8888888888888888, \"#fdca26\"], [1.0, \"#f0f921\"]], \"type\": \"contour\"}], \"contourcarpet\": [{\"colorbar\": {\"outlinewidth\": 0, \"ticks\": \"\"}, \"type\": \"contourcarpet\"}], \"heatmap\": [{\"colorbar\": {\"outlinewidth\": 0, \"ticks\": \"\"}, \"colorscale\": [[0.0, \"#0d0887\"], [0.1111111111111111, \"#46039f\"], [0.2222222222222222, \"#7201a8\"], [0.3333333333333333, \"#9c179e\"], [0.4444444444444444, \"#bd3786\"], [0.5555555555555556, \"#d8576b\"], [0.6666666666666666, \"#ed7953\"], [0.7777777777777778, \"#fb9f3a\"], [0.8888888888888888, \"#fdca26\"], [1.0, \"#f0f921\"]], \"type\": \"heatmap\"}], \"heatmapgl\": [{\"colorbar\": {\"outlinewidth\": 0, \"ticks\": \"\"}, \"colorscale\": [[0.0, \"#0d0887\"], [0.1111111111111111, \"#46039f\"], [0.2222222222222222, \"#7201a8\"], [0.3333333333333333, \"#9c179e\"], [0.4444444444444444, \"#bd3786\"], [0.5555555555555556, \"#d8576b\"], [0.6666666666666666, \"#ed7953\"], [0.7777777777777778, \"#fb9f3a\"], [0.8888888888888888, \"#fdca26\"], [1.0, \"#f0f921\"]], \"type\": \"heatmapgl\"}], \"histogram\": [{\"marker\": {\"colorbar\": {\"outlinewidth\": 0, \"ticks\": \"\"}}, \"type\": \"histogram\"}], \"histogram2d\": [{\"colorbar\": {\"outlinewidth\": 0, \"ticks\": \"\"}, \"colorscale\": [[0.0, \"#0d0887\"], [0.1111111111111111, \"#46039f\"], [0.2222222222222222, \"#7201a8\"], [0.3333333333333333, \"#9c179e\"], [0.4444444444444444, \"#bd3786\"], [0.5555555555555556, \"#d8576b\"], [0.6666666666666666, \"#ed7953\"], [0.7777777777777778, \"#fb9f3a\"], [0.8888888888888888, \"#fdca26\"], [1.0, \"#f0f921\"]], \"type\": \"histogram2d\"}], \"histogram2dcontour\": [{\"colorbar\": {\"outlinewidth\": 0, \"ticks\": \"\"}, \"colorscale\": [[0.0, \"#0d0887\"], [0.1111111111111111, \"#46039f\"], [0.2222222222222222, \"#7201a8\"], [0.3333333333333333, \"#9c179e\"], [0.4444444444444444, \"#bd3786\"], [0.5555555555555556, \"#d8576b\"], [0.6666666666666666, \"#ed7953\"], [0.7777777777777778, \"#fb9f3a\"], [0.8888888888888888, \"#fdca26\"], [1.0, \"#f0f921\"]], \"type\": \"histogram2dcontour\"}], \"mesh3d\": [{\"colorbar\": {\"outlinewidth\": 0, \"ticks\": \"\"}, \"type\": \"mesh3d\"}], \"parcoords\": [{\"line\": {\"colorbar\": {\"outlinewidth\": 0, \"ticks\": \"\"}}, \"type\": \"parcoords\"}], \"pie\": [{\"automargin\": true, \"type\": \"pie\"}], \"scatter\": [{\"marker\": {\"colorbar\": {\"outlinewidth\": 0, \"ticks\": \"\"}}, \"type\": \"scatter\"}], \"scatter3d\": [{\"line\": {\"colorbar\": {\"outlinewidth\": 0, \"ticks\": \"\"}}, \"marker\": {\"colorbar\": {\"outlinewidth\": 0, \"ticks\": \"\"}}, \"type\": \"scatter3d\"}], \"scattercarpet\": [{\"marker\": {\"colorbar\": {\"outlinewidth\": 0, \"ticks\": \"\"}}, \"type\": \"scattercarpet\"}], \"scattergeo\": [{\"marker\": {\"colorbar\": {\"outlinewidth\": 0, \"ticks\": \"\"}}, \"type\": \"scattergeo\"}], \"scattergl\": [{\"marker\": {\"colorbar\": {\"outlinewidth\": 0, \"ticks\": \"\"}}, \"type\": \"scattergl\"}], \"scattermapbox\": [{\"marker\": {\"colorbar\": {\"outlinewidth\": 0, \"ticks\": \"\"}}, \"type\": \"scattermapbox\"}], \"scatterpolar\": [{\"marker\": {\"colorbar\": {\"outlinewidth\": 0, \"ticks\": \"\"}}, \"type\": \"scatterpolar\"}], \"scatterpolargl\": [{\"marker\": {\"colorbar\": {\"outlinewidth\": 0, \"ticks\": \"\"}}, \"type\": \"scatterpolargl\"}], \"scatterternary\": [{\"marker\": {\"colorbar\": {\"outlinewidth\": 0, \"ticks\": \"\"}}, \"type\": \"scatterternary\"}], \"surface\": [{\"colorbar\": {\"outlinewidth\": 0, \"ticks\": \"\"}, \"colorscale\": [[0.0, \"#0d0887\"], [0.1111111111111111, \"#46039f\"], [0.2222222222222222, \"#7201a8\"], [0.3333333333333333, \"#9c179e\"], [0.4444444444444444, \"#bd3786\"], [0.5555555555555556, \"#d8576b\"], [0.6666666666666666, \"#ed7953\"], [0.7777777777777778, \"#fb9f3a\"], [0.8888888888888888, \"#fdca26\"], [1.0, \"#f0f921\"]], \"type\": \"surface\"}], \"table\": [{\"cells\": {\"fill\": {\"color\": \"#EBF0F8\"}, \"line\": {\"color\": \"white\"}}, \"header\": {\"fill\": {\"color\": \"#C8D4E3\"}, \"line\": {\"color\": \"white\"}}, \"type\": \"table\"}]}, \"layout\": {\"annotationdefaults\": {\"arrowcolor\": \"#2a3f5f\", \"arrowhead\": 0, \"arrowwidth\": 1}, \"coloraxis\": {\"colorbar\": {\"outlinewidth\": 0, \"ticks\": \"\"}}, \"colorscale\": {\"diverging\": [[0, \"#8e0152\"], [0.1, \"#c51b7d\"], [0.2, \"#de77ae\"], [0.3, \"#f1b6da\"], [0.4, \"#fde0ef\"], [0.5, \"#f7f7f7\"], [0.6, \"#e6f5d0\"], [0.7, \"#b8e186\"], [0.8, \"#7fbc41\"], [0.9, \"#4d9221\"], [1, \"#276419\"]], \"sequential\": [[0.0, \"#0d0887\"], [0.1111111111111111, \"#46039f\"], [0.2222222222222222, \"#7201a8\"], [0.3333333333333333, \"#9c179e\"], [0.4444444444444444, \"#bd3786\"], [0.5555555555555556, \"#d8576b\"], [0.6666666666666666, \"#ed7953\"], [0.7777777777777778, \"#fb9f3a\"], [0.8888888888888888, \"#fdca26\"], [1.0, \"#f0f921\"]], \"sequentialminus\": [[0.0, \"#0d0887\"], [0.1111111111111111, \"#46039f\"], [0.2222222222222222, \"#7201a8\"], [0.3333333333333333, \"#9c179e\"], [0.4444444444444444, \"#bd3786\"], [0.5555555555555556, \"#d8576b\"], [0.6666666666666666, \"#ed7953\"], [0.7777777777777778, \"#fb9f3a\"], [0.8888888888888888, \"#fdca26\"], [1.0, \"#f0f921\"]]}, \"colorway\": [\"#636efa\", \"#EF553B\", \"#00cc96\", \"#ab63fa\", \"#FFA15A\", \"#19d3f3\", \"#FF6692\", \"#B6E880\", \"#FF97FF\", \"#FECB52\"], \"font\": {\"color\": \"#2a3f5f\"}, \"geo\": {\"bgcolor\": \"white\", \"lakecolor\": \"white\", \"landcolor\": \"#E5ECF6\", \"showlakes\": true, \"showland\": true, \"subunitcolor\": \"white\"}, \"hoverlabel\": {\"align\": \"left\"}, \"hovermode\": \"closest\", \"mapbox\": {\"style\": \"light\"}, \"paper_bgcolor\": \"white\", \"plot_bgcolor\": \"#E5ECF6\", \"polar\": {\"angularaxis\": {\"gridcolor\": \"white\", \"linecolor\": \"white\", \"ticks\": \"\"}, \"bgcolor\": \"#E5ECF6\", \"radialaxis\": {\"gridcolor\": \"white\", \"linecolor\": \"white\", \"ticks\": \"\"}}, \"scene\": {\"xaxis\": {\"backgroundcolor\": \"#E5ECF6\", \"gridcolor\": \"white\", \"gridwidth\": 2, \"linecolor\": \"white\", \"showbackground\": true, \"ticks\": \"\", \"zerolinecolor\": \"white\"}, \"yaxis\": {\"backgroundcolor\": \"#E5ECF6\", \"gridcolor\": \"white\", \"gridwidth\": 2, \"linecolor\": \"white\", \"showbackground\": true, \"ticks\": \"\", \"zerolinecolor\": \"white\"}, \"zaxis\": {\"backgroundcolor\": \"#E5ECF6\", \"gridcolor\": \"white\", \"gridwidth\": 2, \"linecolor\": \"white\", \"showbackground\": true, \"ticks\": \"\", \"zerolinecolor\": \"white\"}}, \"shapedefaults\": {\"line\": {\"color\": \"#2a3f5f\"}}, \"ternary\": {\"aaxis\": {\"gridcolor\": \"white\", \"linecolor\": \"white\", \"ticks\": \"\"}, \"baxis\": {\"gridcolor\": \"white\", \"linecolor\": \"white\", \"ticks\": \"\"}, \"bgcolor\": \"#E5ECF6\", \"caxis\": {\"gridcolor\": \"white\", \"linecolor\": \"white\", \"ticks\": \"\"}}, \"title\": {\"x\": 0.05}, \"xaxis\": {\"automargin\": true, \"gridcolor\": \"white\", \"linecolor\": \"white\", \"ticks\": \"\", \"title\": {\"standoff\": 15}, \"zerolinecolor\": \"white\", \"zerolinewidth\": 2}, \"yaxis\": {\"automargin\": true, \"gridcolor\": \"white\", \"linecolor\": \"white\", \"ticks\": \"\", \"title\": {\"standoff\": 15}, \"zerolinecolor\": \"white\", \"zerolinewidth\": 2}}}, \"title\": {\"text\": \"Amount of Game Sales per Country <br>(Click legend to toggle traces)\"}},                        {\"responsive\": true}                    ).then(function(){\n",
       "                            \n",
       "var gd = document.getElementById('59366efc-2903-4d64-89b9-4dafaafc9be7');\n",
       "var x = new MutationObserver(function (mutations, observer) {{\n",
       "        var display = window.getComputedStyle(gd).display;\n",
       "        if (!display || display === 'none') {{\n",
       "            console.log([gd, 'removed!']);\n",
       "            Plotly.purge(gd);\n",
       "            observer.disconnect();\n",
       "        }}\n",
       "}});\n",
       "\n",
       "// Listen for the removal of the full notebook cells\n",
       "var notebookContainer = gd.closest('#notebook-container');\n",
       "if (notebookContainer) {{\n",
       "    x.observe(notebookContainer, {childList: true});\n",
       "}}\n",
       "\n",
       "// Listen for the clearing of the current output cell\n",
       "var outputEl = gd.closest('.output');\n",
       "if (outputEl) {{\n",
       "    x.observe(outputEl, {childList: true});\n",
       "}}\n",
       "\n",
       "                        })                };                });            </script>        </div>"
      ]
     },
     "metadata": {},
     "output_type": "display_data"
    }
   ],
   "source": [
    "df['text'] = df['Country'] + '<br>Games Sold: ' + (df['Value']).astype(str)\n",
    "limits = [(0,7000),(7001,50000),(50001,100000),(100001,500000),(500001,14000000)]\n",
    "colors = [\"royalblue\",\"crimson\",\"lightseagreen\",\"orange\",\"lightgrey\"]\n",
    "scale = 1000\n",
    "\n",
    "fig = go.Figure()\n",
    "\n",
    "for i in range(len(limits)):\n",
    "    lim = limits[i]\n",
    "    df_sub = df[lim[0]:lim[1]]\n",
    "    fig.add_trace(go.Scattergeo(\n",
    "        locationmode = 'country names',\n",
    "        lon = df_sub['longitude'],\n",
    "        lat = df_sub['latitude'],\n",
    "        text = df_sub['text'],\n",
    "        marker = dict(\n",
    "            size = df_sub['Value']/scale,\n",
    "            color = colors[i],\n",
    "            line_color='rgb(40,40,40)',\n",
    "            line_width=0.5,\n",
    "            sizemode = 'area'\n",
    "        ),\n",
    "        name = '{0} - {1}'.format(lim[0],lim[1])))\n",
    "\n",
    "fig.update_layout(\n",
    "        title_text = 'Amount of Game Sales per Country <br>(Click legend to toggle traces)',\n",
    "        showlegend = True,\n",
    "        geo = dict(\n",
    "            scope = 'world',\n",
    "            landcolor = ' #b3ffb3',\n",
    "        )\n",
    "    )\n",
    "\n",
    "fig.show()"
   ]
  }
 ],
 "metadata": {
  "kernelspec": {
   "display_name": "Python 3",
   "language": "python",
   "name": "python3"
  },
  "language_info": {
   "codemirror_mode": {
    "name": "ipython",
    "version": 3
   },
   "file_extension": ".py",
   "mimetype": "text/x-python",
   "name": "python",
   "nbconvert_exporter": "python",
   "pygments_lexer": "ipython3",
   "version": "3.7.6"
  }
 },
 "nbformat": 4,
 "nbformat_minor": 4
}
